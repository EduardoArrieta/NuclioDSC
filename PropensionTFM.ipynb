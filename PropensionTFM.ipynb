{
  "cells": [
    {
      "cell_type": "code",
      "execution_count": null,
      "metadata": {
        "id": "--SXURD2-orL"
      },
      "outputs": [],
      "source": [
        "import pandas as pd\n",
        "# from fastparquet import ParquetFile\n",
        "import warnings\n",
        "warnings.filterwarnings('ignore')\n",
        "import datetime as dt\n",
        "import os\n",
        "import numpy as np\n",
        "# from sqlalchemy import create_engine\n",
        "\n",
        "import io\n",
        "import time\n",
        "import pandas as pd\n",
        "import os\n",
        "\n",
        "import numpy as np\n",
        "\n",
        "from io import StringIO\n",
        "import glob\n",
        "import pandas as pd\n",
        "#import win32com.client\n",
        "import os\n",
        "import glob\n",
        "from pathlib import Path  # Standard Python Module\n",
        "from openpyxl import load_workbook, Workbook  # pip install openpyxl\n",
        "import glob\n",
        "import ssl\n",
        "import math\n",
        "from scipy.stats import linregress\n",
        "import numpy as np\n",
        "from datetime import datetime, date\n",
        "from dateutil.relativedelta import relativedelta\n",
        "import dateutil.relativedelta\n",
        "from tqdm import tqdm\n",
        "###Para cambiar los nombres de los meses a español\n",
        "import locale\n",
        "#locale.setlocale(locale.LC_TIME, 'es_ES')\n",
        "import warnings\n",
        "import pandas.io.sql as sqlio\n",
        "warnings.filterwarnings(\"ignore\")\n",
        "from datetime import datetime, timedelta\n",
        "import matplotlib.pyplot as plt\n",
        "import plotly.graph_objects as go\n",
        "import seaborn as sns\n",
        "import datetime"
      ]
    },
    {
      "cell_type": "code",
      "source": [
        "from google.colab import drive\n",
        "drive.mount('/content/drive')\n",
        "\n",
        "filepath = '/content/drive/MyDrive/NuclioDSC/TFM/datasets_TFM/'"
      ],
      "metadata": {
        "colab": {
          "base_uri": "https://localhost:8080/"
        },
        "id": "uaaDb09x-uVf",
        "outputId": "e6ba7a0b-faed-49b8-f9df-1315935d6004"
      },
      "execution_count": null,
      "outputs": [
        {
          "output_type": "stream",
          "name": "stdout",
          "text": [
            "Mounted at /content/drive\n"
          ]
        }
      ]
    },
    {
      "cell_type": "code",
      "source": [
        "#Leamos los datasets y los almacenamos en las respectivas variables\n",
        "\n",
        "productos = pd.read_csv(filepath + \"product_ID_df.csv\")\n",
        "productos = productos.iloc[:,1:]\n",
        "\n",
        "demografica = pd.read_csv(filepath + 'sociodemographic_df.csv')\n",
        "demografica = demografica.iloc[:,1:]\n",
        "\n",
        "comercial = pd.read_csv(filepath + 'commercial_activity_df.csv')\n",
        "comercial = comercial.iloc[:, 1:]\n",
        "\n",
        "ventas = pd.read_csv(filepath + 'sales_20_19_NEW.csv')\n",
        "ventas = ventas.iloc[:, 1:]\n",
        "\n",
        "tenencia = pd.read_csv(filepath + 'products_df.csv')\n",
        "tenencia = tenencia.iloc[:, 1:]"
      ],
      "metadata": {
        "id": "NvYgNeAT9gfC"
      },
      "execution_count": null,
      "outputs": []
    },
    {
      "cell_type": "markdown",
      "source": [
        "## EDA-Data Cleaning"
      ],
      "metadata": {
        "id": "jeEW71XV4t_J"
      }
    },
    {
      "cell_type": "markdown",
      "source": [
        "### Productos"
      ],
      "metadata": {
        "id": "Ps2_e-tQZvvu"
      }
    },
    {
      "cell_type": "code",
      "source": [
        "#Observamos el tamaño del dataframe\n",
        "productos.shape"
      ],
      "metadata": {
        "colab": {
          "base_uri": "https://localhost:8080/"
        },
        "id": "0reSqTwk_Gk9",
        "outputId": "2d3d6522-adb8-4543-8874-270d2c46ae43"
      },
      "execution_count": null,
      "outputs": [
        {
          "output_type": "execute_result",
          "data": {
            "text/plain": [
              "(13, 3)"
            ]
          },
          "metadata": {},
          "execution_count": 9
        }
      ]
    },
    {
      "cell_type": "code",
      "source": [
        "#Obtenemos información acerca de él\n",
        "productos.info"
      ],
      "metadata": {
        "colab": {
          "base_uri": "https://localhost:8080/"
        },
        "id": "DN-BWrRUaN4p",
        "outputId": "55216d9c-a1dc-46bf-ad5d-0d0bcfb72762"
      },
      "execution_count": null,
      "outputs": [
        {
          "output_type": "execute_result",
          "data": {
            "text/plain": [
              "<bound method DataFrame.info of     product_ID        product_desc family_product\n",
              "0         4657           em_acount        account\n",
              "1         3819          debit_card   payment_card\n",
              "2         1364        pension_plan   pension_plan\n",
              "3         2234             payroll        account\n",
              "4         2235     payroll_account        account\n",
              "5         8871         emc_account        account\n",
              "6         2312         credit_card   payment_card\n",
              "7         2335  short_term_deposit     investment\n",
              "8         2336   long_term_deposit     investment\n",
              "9         2673          securities     investment\n",
              "10        1119               funds     investment\n",
              "11        9001               loans           loan\n",
              "12        4033            mortgage           loan>"
            ]
          },
          "metadata": {},
          "execution_count": 10
        }
      ]
    },
    {
      "cell_type": "code",
      "source": [
        "#Vemos el head del dataframe\n",
        "productos.head(10)"
      ],
      "metadata": {
        "colab": {
          "base_uri": "https://localhost:8080/",
          "height": 363
        },
        "id": "npOiTz89aTqe",
        "outputId": "d259252f-bebf-46c3-dcd6-485e6186b4ad"
      },
      "execution_count": null,
      "outputs": [
        {
          "output_type": "execute_result",
          "data": {
            "text/plain": [
              "   product_ID        product_desc family_product\n",
              "0        4657           em_acount        account\n",
              "1        3819          debit_card   payment_card\n",
              "2        1364        pension_plan   pension_plan\n",
              "3        2234             payroll        account\n",
              "4        2235     payroll_account        account\n",
              "5        8871         emc_account        account\n",
              "6        2312         credit_card   payment_card\n",
              "7        2335  short_term_deposit     investment\n",
              "8        2336   long_term_deposit     investment\n",
              "9        2673          securities     investment"
            ],
            "text/html": [
              "\n",
              "  <div id=\"df-fa1f81c8-f51a-4e18-a700-4aebacc4dc3a\">\n",
              "    <div class=\"colab-df-container\">\n",
              "      <div>\n",
              "<style scoped>\n",
              "    .dataframe tbody tr th:only-of-type {\n",
              "        vertical-align: middle;\n",
              "    }\n",
              "\n",
              "    .dataframe tbody tr th {\n",
              "        vertical-align: top;\n",
              "    }\n",
              "\n",
              "    .dataframe thead th {\n",
              "        text-align: right;\n",
              "    }\n",
              "</style>\n",
              "<table border=\"1\" class=\"dataframe\">\n",
              "  <thead>\n",
              "    <tr style=\"text-align: right;\">\n",
              "      <th></th>\n",
              "      <th>product_ID</th>\n",
              "      <th>product_desc</th>\n",
              "      <th>family_product</th>\n",
              "    </tr>\n",
              "  </thead>\n",
              "  <tbody>\n",
              "    <tr>\n",
              "      <th>0</th>\n",
              "      <td>4657</td>\n",
              "      <td>em_acount</td>\n",
              "      <td>account</td>\n",
              "    </tr>\n",
              "    <tr>\n",
              "      <th>1</th>\n",
              "      <td>3819</td>\n",
              "      <td>debit_card</td>\n",
              "      <td>payment_card</td>\n",
              "    </tr>\n",
              "    <tr>\n",
              "      <th>2</th>\n",
              "      <td>1364</td>\n",
              "      <td>pension_plan</td>\n",
              "      <td>pension_plan</td>\n",
              "    </tr>\n",
              "    <tr>\n",
              "      <th>3</th>\n",
              "      <td>2234</td>\n",
              "      <td>payroll</td>\n",
              "      <td>account</td>\n",
              "    </tr>\n",
              "    <tr>\n",
              "      <th>4</th>\n",
              "      <td>2235</td>\n",
              "      <td>payroll_account</td>\n",
              "      <td>account</td>\n",
              "    </tr>\n",
              "    <tr>\n",
              "      <th>5</th>\n",
              "      <td>8871</td>\n",
              "      <td>emc_account</td>\n",
              "      <td>account</td>\n",
              "    </tr>\n",
              "    <tr>\n",
              "      <th>6</th>\n",
              "      <td>2312</td>\n",
              "      <td>credit_card</td>\n",
              "      <td>payment_card</td>\n",
              "    </tr>\n",
              "    <tr>\n",
              "      <th>7</th>\n",
              "      <td>2335</td>\n",
              "      <td>short_term_deposit</td>\n",
              "      <td>investment</td>\n",
              "    </tr>\n",
              "    <tr>\n",
              "      <th>8</th>\n",
              "      <td>2336</td>\n",
              "      <td>long_term_deposit</td>\n",
              "      <td>investment</td>\n",
              "    </tr>\n",
              "    <tr>\n",
              "      <th>9</th>\n",
              "      <td>2673</td>\n",
              "      <td>securities</td>\n",
              "      <td>investment</td>\n",
              "    </tr>\n",
              "  </tbody>\n",
              "</table>\n",
              "</div>\n",
              "      <button class=\"colab-df-convert\" onclick=\"convertToInteractive('df-fa1f81c8-f51a-4e18-a700-4aebacc4dc3a')\"\n",
              "              title=\"Convert this dataframe to an interactive table.\"\n",
              "              style=\"display:none;\">\n",
              "        \n",
              "  <svg xmlns=\"http://www.w3.org/2000/svg\" height=\"24px\"viewBox=\"0 0 24 24\"\n",
              "       width=\"24px\">\n",
              "    <path d=\"M0 0h24v24H0V0z\" fill=\"none\"/>\n",
              "    <path d=\"M18.56 5.44l.94 2.06.94-2.06 2.06-.94-2.06-.94-.94-2.06-.94 2.06-2.06.94zm-11 1L8.5 8.5l.94-2.06 2.06-.94-2.06-.94L8.5 2.5l-.94 2.06-2.06.94zm10 10l.94 2.06.94-2.06 2.06-.94-2.06-.94-.94-2.06-.94 2.06-2.06.94z\"/><path d=\"M17.41 7.96l-1.37-1.37c-.4-.4-.92-.59-1.43-.59-.52 0-1.04.2-1.43.59L10.3 9.45l-7.72 7.72c-.78.78-.78 2.05 0 2.83L4 21.41c.39.39.9.59 1.41.59.51 0 1.02-.2 1.41-.59l7.78-7.78 2.81-2.81c.8-.78.8-2.07 0-2.86zM5.41 20L4 18.59l7.72-7.72 1.47 1.35L5.41 20z\"/>\n",
              "  </svg>\n",
              "      </button>\n",
              "      \n",
              "  <style>\n",
              "    .colab-df-container {\n",
              "      display:flex;\n",
              "      flex-wrap:wrap;\n",
              "      gap: 12px;\n",
              "    }\n",
              "\n",
              "    .colab-df-convert {\n",
              "      background-color: #E8F0FE;\n",
              "      border: none;\n",
              "      border-radius: 50%;\n",
              "      cursor: pointer;\n",
              "      display: none;\n",
              "      fill: #1967D2;\n",
              "      height: 32px;\n",
              "      padding: 0 0 0 0;\n",
              "      width: 32px;\n",
              "    }\n",
              "\n",
              "    .colab-df-convert:hover {\n",
              "      background-color: #E2EBFA;\n",
              "      box-shadow: 0px 1px 2px rgba(60, 64, 67, 0.3), 0px 1px 3px 1px rgba(60, 64, 67, 0.15);\n",
              "      fill: #174EA6;\n",
              "    }\n",
              "\n",
              "    [theme=dark] .colab-df-convert {\n",
              "      background-color: #3B4455;\n",
              "      fill: #D2E3FC;\n",
              "    }\n",
              "\n",
              "    [theme=dark] .colab-df-convert:hover {\n",
              "      background-color: #434B5C;\n",
              "      box-shadow: 0px 1px 3px 1px rgba(0, 0, 0, 0.15);\n",
              "      filter: drop-shadow(0px 1px 2px rgba(0, 0, 0, 0.3));\n",
              "      fill: #FFFFFF;\n",
              "    }\n",
              "  </style>\n",
              "\n",
              "      <script>\n",
              "        const buttonEl =\n",
              "          document.querySelector('#df-fa1f81c8-f51a-4e18-a700-4aebacc4dc3a button.colab-df-convert');\n",
              "        buttonEl.style.display =\n",
              "          google.colab.kernel.accessAllowed ? 'block' : 'none';\n",
              "\n",
              "        async function convertToInteractive(key) {\n",
              "          const element = document.querySelector('#df-fa1f81c8-f51a-4e18-a700-4aebacc4dc3a');\n",
              "          const dataTable =\n",
              "            await google.colab.kernel.invokeFunction('convertToInteractive',\n",
              "                                                     [key], {});\n",
              "          if (!dataTable) return;\n",
              "\n",
              "          const docLinkHtml = 'Like what you see? Visit the ' +\n",
              "            '<a target=\"_blank\" href=https://colab.research.google.com/notebooks/data_table.ipynb>data table notebook</a>'\n",
              "            + ' to learn more about interactive tables.';\n",
              "          element.innerHTML = '';\n",
              "          dataTable['output_type'] = 'display_data';\n",
              "          await google.colab.output.renderOutput(dataTable, element);\n",
              "          const docLink = document.createElement('div');\n",
              "          docLink.innerHTML = docLinkHtml;\n",
              "          element.appendChild(docLink);\n",
              "        }\n",
              "      </script>\n",
              "    </div>\n",
              "  </div>\n",
              "  "
            ]
          },
          "metadata": {},
          "execution_count": 13
        }
      ]
    },
    {
      "cell_type": "markdown",
      "metadata": {
        "id": "f2G3qfZj-orO"
      },
      "source": [
        "## Demográfica"
      ]
    },
    {
      "cell_type": "code",
      "source": [
        "#Obtenemos el tamaño del dataframe\n",
        "demografica.shape"
      ],
      "metadata": {
        "colab": {
          "base_uri": "https://localhost:8080/"
        },
        "id": "PpEe3mu7ak9N",
        "outputId": "aaa7d535-ca26-4184-f56b-2c2cf521003c"
      },
      "execution_count": null,
      "outputs": [
        {
          "output_type": "execute_result",
          "data": {
            "text/plain": [
              "(5962924, 8)"
            ]
          },
          "metadata": {},
          "execution_count": 15
        }
      ]
    },
    {
      "cell_type": "code",
      "source": [
        "#Obtenemos información acerca de él\n",
        "demografica.info"
      ],
      "metadata": {
        "colab": {
          "base_uri": "https://localhost:8080/"
        },
        "id": "ZM1e3_WlayDO",
        "outputId": "a50a4f83-19dd-4fde-f679-0cff040daa6b"
      },
      "execution_count": null,
      "outputs": [
        {
          "output_type": "execute_result",
          "data": {
            "text/plain": [
              "<bound method DataFrame.info of           pk_cid pk_partition country_id  region_code gender  age deceased  \\\n",
              "0        1375586      2018-01         ES         29.0      H   35        N   \n",
              "1        1050611      2018-01         ES         13.0      V   23        N   \n",
              "2        1050612      2018-01         ES         13.0      V   23        N   \n",
              "3        1050613      2018-01         ES         50.0      H   22        N   \n",
              "4        1050614      2018-01         ES         50.0      V   23        N   \n",
              "...          ...          ...        ...          ...    ...  ...      ...   \n",
              "5962919  1166765      2019-05         ES         50.0      V   22        N   \n",
              "5962920  1166764      2019-05         ES         26.0      V   23        N   \n",
              "5962921  1166763      2019-05         ES         50.0      H   47        N   \n",
              "5962922  1166789      2019-05         ES         50.0      H   22        N   \n",
              "5962923  1550586      2019-05         ES         28.0      H   37        N   \n",
              "\n",
              "            salary  \n",
              "0         87218.10  \n",
              "1         35548.74  \n",
              "2        122179.11  \n",
              "3        119775.54  \n",
              "4              NaN  \n",
              "...            ...  \n",
              "5962919   43912.17  \n",
              "5962920   23334.99  \n",
              "5962921        NaN  \n",
              "5962922  199592.82  \n",
              "5962923        NaN  \n",
              "\n",
              "[5962924 rows x 8 columns]>"
            ]
          },
          "metadata": {},
          "execution_count": 16
        }
      ]
    },
    {
      "cell_type": "code",
      "source": [
        "demografica.head(10)"
      ],
      "metadata": {
        "colab": {
          "base_uri": "https://localhost:8080/",
          "height": 363
        },
        "id": "_fb6dZj07jYT",
        "outputId": "e71b43b3-7374-49a5-ec30-e6d44b6ac9ab"
      },
      "execution_count": null,
      "outputs": [
        {
          "output_type": "execute_result",
          "data": {
            "text/plain": [
              "    pk_cid pk_partition country_id  region_code gender  age deceased  \\\n",
              "0  1375586      2018-01         ES         29.0      H   35        N   \n",
              "1  1050611      2018-01         ES         13.0      V   23        N   \n",
              "2  1050612      2018-01         ES         13.0      V   23        N   \n",
              "3  1050613      2018-01         ES         50.0      H   22        N   \n",
              "4  1050614      2018-01         ES         50.0      V   23        N   \n",
              "5  1050615      2018-01         ES         45.0      H   23        N   \n",
              "6  1050616      2018-01         ES         24.0      H   23        N   \n",
              "7  1050617      2018-01         ES         50.0      H   23        N   \n",
              "8  1050619      2018-01         ES         20.0      H   24        N   \n",
              "9  1050620      2018-01         ES         10.0      H   23        N   \n",
              "\n",
              "      salary  \n",
              "0   87218.10  \n",
              "1   35548.74  \n",
              "2  122179.11  \n",
              "3  119775.54  \n",
              "4        NaN  \n",
              "5   22220.04  \n",
              "6  295590.36  \n",
              "7  113316.66  \n",
              "8        NaN  \n",
              "9  113194.98  "
            ],
            "text/html": [
              "\n",
              "  <div id=\"df-b8b40088-8083-4855-9497-cb93a7f3e6e3\">\n",
              "    <div class=\"colab-df-container\">\n",
              "      <div>\n",
              "<style scoped>\n",
              "    .dataframe tbody tr th:only-of-type {\n",
              "        vertical-align: middle;\n",
              "    }\n",
              "\n",
              "    .dataframe tbody tr th {\n",
              "        vertical-align: top;\n",
              "    }\n",
              "\n",
              "    .dataframe thead th {\n",
              "        text-align: right;\n",
              "    }\n",
              "</style>\n",
              "<table border=\"1\" class=\"dataframe\">\n",
              "  <thead>\n",
              "    <tr style=\"text-align: right;\">\n",
              "      <th></th>\n",
              "      <th>pk_cid</th>\n",
              "      <th>pk_partition</th>\n",
              "      <th>country_id</th>\n",
              "      <th>region_code</th>\n",
              "      <th>gender</th>\n",
              "      <th>age</th>\n",
              "      <th>deceased</th>\n",
              "      <th>salary</th>\n",
              "    </tr>\n",
              "  </thead>\n",
              "  <tbody>\n",
              "    <tr>\n",
              "      <th>0</th>\n",
              "      <td>1375586</td>\n",
              "      <td>2018-01</td>\n",
              "      <td>ES</td>\n",
              "      <td>29.0</td>\n",
              "      <td>H</td>\n",
              "      <td>35</td>\n",
              "      <td>N</td>\n",
              "      <td>87218.10</td>\n",
              "    </tr>\n",
              "    <tr>\n",
              "      <th>1</th>\n",
              "      <td>1050611</td>\n",
              "      <td>2018-01</td>\n",
              "      <td>ES</td>\n",
              "      <td>13.0</td>\n",
              "      <td>V</td>\n",
              "      <td>23</td>\n",
              "      <td>N</td>\n",
              "      <td>35548.74</td>\n",
              "    </tr>\n",
              "    <tr>\n",
              "      <th>2</th>\n",
              "      <td>1050612</td>\n",
              "      <td>2018-01</td>\n",
              "      <td>ES</td>\n",
              "      <td>13.0</td>\n",
              "      <td>V</td>\n",
              "      <td>23</td>\n",
              "      <td>N</td>\n",
              "      <td>122179.11</td>\n",
              "    </tr>\n",
              "    <tr>\n",
              "      <th>3</th>\n",
              "      <td>1050613</td>\n",
              "      <td>2018-01</td>\n",
              "      <td>ES</td>\n",
              "      <td>50.0</td>\n",
              "      <td>H</td>\n",
              "      <td>22</td>\n",
              "      <td>N</td>\n",
              "      <td>119775.54</td>\n",
              "    </tr>\n",
              "    <tr>\n",
              "      <th>4</th>\n",
              "      <td>1050614</td>\n",
              "      <td>2018-01</td>\n",
              "      <td>ES</td>\n",
              "      <td>50.0</td>\n",
              "      <td>V</td>\n",
              "      <td>23</td>\n",
              "      <td>N</td>\n",
              "      <td>NaN</td>\n",
              "    </tr>\n",
              "    <tr>\n",
              "      <th>5</th>\n",
              "      <td>1050615</td>\n",
              "      <td>2018-01</td>\n",
              "      <td>ES</td>\n",
              "      <td>45.0</td>\n",
              "      <td>H</td>\n",
              "      <td>23</td>\n",
              "      <td>N</td>\n",
              "      <td>22220.04</td>\n",
              "    </tr>\n",
              "    <tr>\n",
              "      <th>6</th>\n",
              "      <td>1050616</td>\n",
              "      <td>2018-01</td>\n",
              "      <td>ES</td>\n",
              "      <td>24.0</td>\n",
              "      <td>H</td>\n",
              "      <td>23</td>\n",
              "      <td>N</td>\n",
              "      <td>295590.36</td>\n",
              "    </tr>\n",
              "    <tr>\n",
              "      <th>7</th>\n",
              "      <td>1050617</td>\n",
              "      <td>2018-01</td>\n",
              "      <td>ES</td>\n",
              "      <td>50.0</td>\n",
              "      <td>H</td>\n",
              "      <td>23</td>\n",
              "      <td>N</td>\n",
              "      <td>113316.66</td>\n",
              "    </tr>\n",
              "    <tr>\n",
              "      <th>8</th>\n",
              "      <td>1050619</td>\n",
              "      <td>2018-01</td>\n",
              "      <td>ES</td>\n",
              "      <td>20.0</td>\n",
              "      <td>H</td>\n",
              "      <td>24</td>\n",
              "      <td>N</td>\n",
              "      <td>NaN</td>\n",
              "    </tr>\n",
              "    <tr>\n",
              "      <th>9</th>\n",
              "      <td>1050620</td>\n",
              "      <td>2018-01</td>\n",
              "      <td>ES</td>\n",
              "      <td>10.0</td>\n",
              "      <td>H</td>\n",
              "      <td>23</td>\n",
              "      <td>N</td>\n",
              "      <td>113194.98</td>\n",
              "    </tr>\n",
              "  </tbody>\n",
              "</table>\n",
              "</div>\n",
              "      <button class=\"colab-df-convert\" onclick=\"convertToInteractive('df-b8b40088-8083-4855-9497-cb93a7f3e6e3')\"\n",
              "              title=\"Convert this dataframe to an interactive table.\"\n",
              "              style=\"display:none;\">\n",
              "        \n",
              "  <svg xmlns=\"http://www.w3.org/2000/svg\" height=\"24px\"viewBox=\"0 0 24 24\"\n",
              "       width=\"24px\">\n",
              "    <path d=\"M0 0h24v24H0V0z\" fill=\"none\"/>\n",
              "    <path d=\"M18.56 5.44l.94 2.06.94-2.06 2.06-.94-2.06-.94-.94-2.06-.94 2.06-2.06.94zm-11 1L8.5 8.5l.94-2.06 2.06-.94-2.06-.94L8.5 2.5l-.94 2.06-2.06.94zm10 10l.94 2.06.94-2.06 2.06-.94-2.06-.94-.94-2.06-.94 2.06-2.06.94z\"/><path d=\"M17.41 7.96l-1.37-1.37c-.4-.4-.92-.59-1.43-.59-.52 0-1.04.2-1.43.59L10.3 9.45l-7.72 7.72c-.78.78-.78 2.05 0 2.83L4 21.41c.39.39.9.59 1.41.59.51 0 1.02-.2 1.41-.59l7.78-7.78 2.81-2.81c.8-.78.8-2.07 0-2.86zM5.41 20L4 18.59l7.72-7.72 1.47 1.35L5.41 20z\"/>\n",
              "  </svg>\n",
              "      </button>\n",
              "      \n",
              "  <style>\n",
              "    .colab-df-container {\n",
              "      display:flex;\n",
              "      flex-wrap:wrap;\n",
              "      gap: 12px;\n",
              "    }\n",
              "\n",
              "    .colab-df-convert {\n",
              "      background-color: #E8F0FE;\n",
              "      border: none;\n",
              "      border-radius: 50%;\n",
              "      cursor: pointer;\n",
              "      display: none;\n",
              "      fill: #1967D2;\n",
              "      height: 32px;\n",
              "      padding: 0 0 0 0;\n",
              "      width: 32px;\n",
              "    }\n",
              "\n",
              "    .colab-df-convert:hover {\n",
              "      background-color: #E2EBFA;\n",
              "      box-shadow: 0px 1px 2px rgba(60, 64, 67, 0.3), 0px 1px 3px 1px rgba(60, 64, 67, 0.15);\n",
              "      fill: #174EA6;\n",
              "    }\n",
              "\n",
              "    [theme=dark] .colab-df-convert {\n",
              "      background-color: #3B4455;\n",
              "      fill: #D2E3FC;\n",
              "    }\n",
              "\n",
              "    [theme=dark] .colab-df-convert:hover {\n",
              "      background-color: #434B5C;\n",
              "      box-shadow: 0px 1px 3px 1px rgba(0, 0, 0, 0.15);\n",
              "      filter: drop-shadow(0px 1px 2px rgba(0, 0, 0, 0.3));\n",
              "      fill: #FFFFFF;\n",
              "    }\n",
              "  </style>\n",
              "\n",
              "      <script>\n",
              "        const buttonEl =\n",
              "          document.querySelector('#df-b8b40088-8083-4855-9497-cb93a7f3e6e3 button.colab-df-convert');\n",
              "        buttonEl.style.display =\n",
              "          google.colab.kernel.accessAllowed ? 'block' : 'none';\n",
              "\n",
              "        async function convertToInteractive(key) {\n",
              "          const element = document.querySelector('#df-b8b40088-8083-4855-9497-cb93a7f3e6e3');\n",
              "          const dataTable =\n",
              "            await google.colab.kernel.invokeFunction('convertToInteractive',\n",
              "                                                     [key], {});\n",
              "          if (!dataTable) return;\n",
              "\n",
              "          const docLinkHtml = 'Like what you see? Visit the ' +\n",
              "            '<a target=\"_blank\" href=https://colab.research.google.com/notebooks/data_table.ipynb>data table notebook</a>'\n",
              "            + ' to learn more about interactive tables.';\n",
              "          element.innerHTML = '';\n",
              "          dataTable['output_type'] = 'display_data';\n",
              "          await google.colab.output.renderOutput(dataTable, element);\n",
              "          const docLink = document.createElement('div');\n",
              "          docLink.innerHTML = docLinkHtml;\n",
              "          element.appendChild(docLink);\n",
              "        }\n",
              "      </script>\n",
              "    </div>\n",
              "  </div>\n",
              "  "
            ]
          },
          "metadata": {},
          "execution_count": 17
        }
      ]
    },
    {
      "cell_type": "code",
      "execution_count": null,
      "metadata": {
        "id": "ujOny7-I-orP"
      },
      "outputs": [],
      "source": [
        "#Eliminamos las filas con valores faltantes\n",
        "demografica.dropna(subset = ['pk_cid', 'pk_partition', 'country_id','gender', 'age',\n",
        "       'deceased'],inplace = True)\n",
        "\n",
        "#Seleccionamos solo las filas de demografica que corresponden a clientes que están vivos\n",
        "lista_muertos =  demografica[demografica['deceased'] == \"S\"]['pk_cid'].values\n",
        "demografica =demografica[~demografica['pk_cid'].isin(lista_muertos)]\n",
        "\n",
        "#Pasando a categóricos la variavle gender a través del campo gnd\n",
        "demografica['gnd'] = np.where(demografica['gender']== 'H',1,0)"
      ]
    },
    {
      "cell_type": "code",
      "execution_count": null,
      "metadata": {
        "id": "Oq-ltC2I-orQ"
      },
      "outputs": [],
      "source": [
        "#Transformación categórica country_region ('ct_rgn')\n",
        "\n",
        "#Unimos los campos 'country_id' con 'region_code'\n",
        "demografica['ct_rgn'] = demografica['country_id'] + '_' + demografica['region_code'].astype(str)\n",
        "\n",
        "#Obtenemos categorias asignadas a la variable 'ct_rgn'\n",
        "numbers, categories = pd.factorize(demografica['ct_rgn'])\n",
        "\n",
        "#Normalizamos los números asignados para obtener valores entre 0 y 1 (peso específico de cada categoria)\n",
        "numbers_norm = numbers / (len(categories) - 1)\n",
        "df_referencia_ct_rgn = demografica[['ct_rgn']]\n",
        "df_referencia_ct_rgn['ct_rgn_norm'] = numbers_norm\n",
        "df_referencia_ct_rgn.drop_duplicates(['ct_rgn_norm'],inplace=True)\n",
        "demografica['ct_rgn_norm'] = numbers_norm\n",
        "df_referencia_ct_rgn.reset_index(drop= True,inplace = True)"
      ]
    },
    {
      "cell_type": "code",
      "execution_count": null,
      "metadata": {
        "id": "5OHfKMgj-orR"
      },
      "outputs": [],
      "source": [
        "demografica['pk_partition'] = pd.to_datetime(demografica['pk_partition'])\n"
      ]
    },
    {
      "cell_type": "code",
      "execution_count": null,
      "metadata": {
        "id": "d1i1YkC6-orR"
      },
      "outputs": [],
      "source": [
        "demografica.head(2)"
      ]
    },
    {
      "cell_type": "code",
      "execution_count": null,
      "metadata": {
        "id": "-iP6SgG2-orT"
      },
      "outputs": [],
      "source": [
        "temp_dem = demografica[['pk_cid','pk_partition','age','gnd','ct_rgn_norm']]\n",
        "temp_dem.info()"
      ]
    },
    {
      "cell_type": "markdown",
      "metadata": {
        "id": "YhKK5yrJ-orR"
      },
      "source": [
        "### Comercial"
      ]
    },
    {
      "cell_type": "code",
      "source": [
        "comercial.head(2)"
      ],
      "metadata": {
        "id": "3PKRoybwnOUP"
      },
      "execution_count": null,
      "outputs": []
    },
    {
      "cell_type": "code",
      "execution_count": null,
      "metadata": {
        "id": "t4-MYszW-orS"
      },
      "outputs": [],
      "source": [
        "comercial.dropna(inplace=True)\n",
        "counts = comercial['entry_channel'].value_counts()\n",
        "weights = counts / len(comercial)\n",
        "weights_dict = weights.to_dict()\n",
        "comercial['entry_weights'] = comercial['entry_channel'].map(weights_dict)\n",
        "df_referencia_entry_weights = comercial[['entry_channel','entry_weights']]\n",
        "df_referencia_entry_weights.drop_duplicates(['entry_weights'],inplace=True)\n",
        "comercial['pk_partition'] = pd.to_datetime(comercial['pk_partition'])\n",
        "comercial['entry_date'] = pd.to_datetime(comercial['entry_date'])\n",
        "comercial['anti_cli'] = (comercial['pk_partition'].dt.year - comercial['entry_date'].dt.year) * 12 + (comercial['pk_partition'].dt.month - comercial['entry_date'].dt.month)\n",
        "comercial['seg_cli'] = comercial['segment'].str.split(\"-\",expand=True)[0]"
      ]
    },
    {
      "cell_type": "code",
      "execution_count": null,
      "metadata": {
        "id": "JxqAT-VY-orS"
      },
      "outputs": [],
      "source": [
        "comercial['anti_cli'] = comercial['anti_cli'].astype(float)\n",
        "comercial['seg_cli'] = comercial['seg_cli'].astype(int)\n",
        "comercial.info()"
      ]
    },
    {
      "cell_type": "code",
      "execution_count": null,
      "metadata": {
        "id": "5SaZ3o2B-orS"
      },
      "outputs": [],
      "source": [
        "comercial = comercial[['pk_cid', 'pk_partition','entry_weights', 'anti_cli', 'seg_cli']]"
      ]
    },
    {
      "cell_type": "code",
      "execution_count": null,
      "metadata": {
        "id": "HkCgVVB0-orS"
      },
      "outputs": [],
      "source": [
        "comercial.drop_duplicates(['pk_cid', 'pk_partition','entry_weights', 'anti_cli', 'seg_cli'],inplace = True)\n"
      ]
    },
    {
      "cell_type": "code",
      "source": [
        "comercial.head(2)"
      ],
      "metadata": {
        "id": "O4YKnkyx9fLB"
      },
      "execution_count": null,
      "outputs": []
    },
    {
      "cell_type": "code",
      "execution_count": null,
      "metadata": {
        "id": "CqSRZWxC-orT"
      },
      "outputs": [],
      "source": [
        "temp_com = comercial[['pk_cid', 'pk_partition','entry_weights', 'anti_cli', 'seg_cli']]\n",
        "temp_com['pk_partition'] = pd.to_datetime(temp_com['pk_partition'],format = '%Y-%m')"
      ]
    },
    {
      "cell_type": "markdown",
      "metadata": {
        "id": "je2Uxj-6-orS"
      },
      "source": [
        "<h2><u>VENTAS<u><h2>"
      ]
    },
    {
      "cell_type": "code",
      "source": [
        "ventas.head(2)"
      ],
      "metadata": {
        "id": "V3Dj_gZ89pd1"
      },
      "execution_count": null,
      "outputs": []
    },
    {
      "cell_type": "code",
      "execution_count": null,
      "metadata": {
        "id": "jVT9cOuU-orS"
      },
      "outputs": [],
      "source": [
        "ventas.drop_duplicates(['pk_sale', 'cid', 'month_sale', 'product_ID', 'net_margin'],inplace = True)"
      ]
    },
    {
      "cell_type": "code",
      "execution_count": null,
      "metadata": {
        "id": "Bkvn2XXP-orT"
      },
      "outputs": [],
      "source": [
        "len(ventas['pk_sale'].unique())-len(ventas)"
      ]
    },
    {
      "cell_type": "code",
      "execution_count": null,
      "metadata": {
        "id": "rfIt5NLG-orT"
      },
      "outputs": [],
      "source": [
        "ventas['target'] = np.where(ventas['net_margin']>0,1,0)\n",
        "ventas.sort_values(['net_margin'],ascending=False)\n",
        "ventas.rename(columns={'month_sale':'pk_partition'}, inplace=True)\n",
        "ventas.rename(columns={'cid':'pk_cid'}, inplace=True)\n",
        "ventas['pk_partition'] = pd.to_datetime(ventas['pk_partition'],dayfirst = True)"
      ]
    },
    {
      "cell_type": "code",
      "source": [
        "temp_ventas = ventas"
      ],
      "metadata": {
        "id": "i5MRqMcWOWBN"
      },
      "execution_count": null,
      "outputs": []
    },
    {
      "cell_type": "code",
      "source": [
        "temp_ventas.head(2)"
      ],
      "metadata": {
        "id": "1_i6BSWx739T"
      },
      "execution_count": null,
      "outputs": []
    },
    {
      "cell_type": "code",
      "source": [
        "temp_ventas.info()"
      ],
      "metadata": {
        "id": "ozS9xoWrrRSu"
      },
      "execution_count": null,
      "outputs": []
    },
    {
      "cell_type": "markdown",
      "source": [
        "<h2><u>TENENCIA DE PRODUCTOS<u><h2>"
      ],
      "metadata": {
        "id": "i_hq2Tgk547O"
      }
    },
    {
      "cell_type": "markdown",
      "source": [
        "<h2><u>MERGE DE TABLAS<u><h2>"
      ],
      "metadata": {
        "id": "cIQHyYPC5j0H"
      }
    },
    {
      "cell_type": "code",
      "execution_count": null,
      "metadata": {
        "id": "z25teKZW-orT"
      },
      "outputs": [],
      "source": [
        "df = temp_dem.merge(temp_com,on = ['pk_cid','pk_partition'],how = 'left')\n",
        "df = df.merge(temp_ventas,on = ['pk_cid','pk_partition'],how = 'left')\n",
        "df.sort_values(['target'],inplace = True,ascending=True)\n",
        "df.drop_duplicates(['pk_cid','pk_partition'],inplace=True)"
      ]
    },
    {
      "cell_type": "code",
      "source": [
        "df"
      ],
      "metadata": {
        "id": "OqkR8kaQUo78"
      },
      "execution_count": null,
      "outputs": []
    },
    {
      "cell_type": "code",
      "source": [
        "df['target'].value_counts()[1]"
      ],
      "metadata": {
        "id": "0OC_pDgcPwgt"
      },
      "execution_count": null,
      "outputs": []
    },
    {
      "cell_type": "code",
      "execution_count": null,
      "metadata": {
        "id": "n5ecs4EJ-orT"
      },
      "outputs": [],
      "source": [
        "df['target'] = np.where(df['target'].isnull(),0,df['target'])"
      ]
    },
    {
      "cell_type": "code",
      "source": [
        "df"
      ],
      "metadata": {
        "id": "qXB58VkNQ_qW"
      },
      "execution_count": null,
      "outputs": []
    },
    {
      "cell_type": "code",
      "execution_count": null,
      "metadata": {
        "id": "FvJRCYLp-orT"
      },
      "outputs": [],
      "source": [
        "df.fillna(0, inplace=True)"
      ]
    },
    {
      "cell_type": "code",
      "source": [
        "df"
      ],
      "metadata": {
        "id": "N8by7tBnRvy1"
      },
      "execution_count": null,
      "outputs": []
    },
    {
      "cell_type": "code",
      "execution_count": null,
      "metadata": {
        "id": "PSGVdRGS-orT"
      },
      "outputs": [],
      "source": [
        "df = df.sort_values(by=['pk_cid', 'pk_partition'])\n",
        "\n",
        "# Agregar nueva columna TARGET_1\n",
        "df['TARGET_1'] = df.groupby('pk_cid')['target'].shift(1)\n",
        "\n"
      ]
    },
    {
      "cell_type": "code",
      "source": [
        "df"
      ],
      "metadata": {
        "id": "L7TAJJGWR2aS"
      },
      "execution_count": null,
      "outputs": []
    },
    {
      "cell_type": "code",
      "source": [
        "df.columns"
      ],
      "metadata": {
        "id": "LjegfNMVejZf"
      },
      "execution_count": null,
      "outputs": []
    },
    {
      "cell_type": "code",
      "execution_count": null,
      "metadata": {
        "id": "mKREA7tk-orT"
      },
      "outputs": [],
      "source": [
        "df.dropna(subset = ['TARGET_1'],inplace=True) #Elimino aquellos casos que no cuentan con información el mes anterior no compraron y no registran actividad comercial\n"
      ]
    },
    {
      "cell_type": "code",
      "source": [
        "df=df[['pk_cid', 'pk_partition', 'age', 'gnd', 'ct_rgn_norm', 'entry_weights','anti_cli', 'seg_cli','target','TARGET_1']]"
      ],
      "metadata": {
        "id": "GcUKbiFCefEc"
      },
      "execution_count": null,
      "outputs": []
    },
    {
      "cell_type": "code",
      "source": [
        "merge_target=df"
      ],
      "metadata": {
        "id": "xIpRibu8dd4n"
      },
      "execution_count": null,
      "outputs": []
    },
    {
      "cell_type": "code",
      "source": [
        "merge_target['target'].value_counts()[1]"
      ],
      "metadata": {
        "id": "h7z7eoO5TUig"
      },
      "execution_count": null,
      "outputs": []
    },
    {
      "cell_type": "code",
      "source": [
        "cant_mes1= merge_target.groupby(['pk_partition','target'])['target'].count().unstack()\n",
        "cant_mes1\n"
      ],
      "metadata": {
        "id": "rHquGI8hTb6P"
      },
      "execution_count": null,
      "outputs": []
    },
    {
      "cell_type": "code",
      "source": [
        "cant_mes2= merge_target.groupby(['pk_partition','target'])['target'].count().unstack()\n",
        "cant_mes2"
      ],
      "metadata": {
        "id": "zQfK1R0fWZc0"
      },
      "execution_count": null,
      "outputs": []
    },
    {
      "cell_type": "code",
      "source": [
        "##preparar 70 30%\n",
        "casos = merge_target[merge_target['pk_partition']=='2018-09-01']\n",
        "casos_1= casos[casos['target']==1]\n",
        "casos_0 = casos[casos['target']==0]\n",
        "casos_0_sample = casos_0.sample(int(len(casos_1)*1),random_state=1)\n",
        "casos_modelo_60 = pd.concat([casos_1,casos_0_sample])\n",
        "len(casos_modelo_60)-len(casos_1)-len(casos_0_sample)"
      ],
      "metadata": {
        "id": "YRH_0AwAmj94"
      },
      "execution_count": null,
      "outputs": []
    },
    {
      "cell_type": "code",
      "source": [
        "cant_mes2= casos_modelo_60.groupby(['pk_partition','target'])['target'].count().unstack()\n",
        "cant_mes2"
      ],
      "metadata": {
        "id": "5DP361v5oGIQ"
      },
      "execution_count": null,
      "outputs": []
    },
    {
      "cell_type": "code",
      "source": [
        "casos_modelo_60"
      ],
      "metadata": {
        "id": "zQKhxxdmoV7X"
      },
      "execution_count": null,
      "outputs": []
    },
    {
      "cell_type": "code",
      "source": [
        "muestra=casos_modelo_60"
      ],
      "metadata": {
        "id": "XxoUjMa9uXmo"
      },
      "execution_count": null,
      "outputs": []
    },
    {
      "cell_type": "markdown",
      "source": [
        "# **ENTRENAMIENTO**"
      ],
      "metadata": {
        "id": "GtOyXm72yjFr"
      }
    },
    {
      "cell_type": "code",
      "execution_count": null,
      "metadata": {
        "id": "3vbHTrJe-orU"
      },
      "outputs": [],
      "source": [
        "df_modelo =muestra\n",
        "df_modelo = df_modelo.iloc[:,2:]"
      ]
    },
    {
      "cell_type": "code",
      "source": [
        "df_modelo"
      ],
      "metadata": {
        "id": "vdLC9BfMyzkG"
      },
      "execution_count": null,
      "outputs": []
    },
    {
      "cell_type": "code",
      "execution_count": null,
      "metadata": {
        "id": "E5ueJO4Q-orU"
      },
      "outputs": [],
      "source": [
        "len(df_modelo)"
      ]
    },
    {
      "cell_type": "code",
      "source": [
        "!pip install yellowbrick==1.3.1"
      ],
      "metadata": {
        "id": "jheydiwEt4SI"
      },
      "execution_count": null,
      "outputs": []
    },
    {
      "cell_type": "code",
      "source": [
        "!pip install numpy==1.20\n"
      ],
      "metadata": {
        "id": "OlKDb4RTtH0K"
      },
      "execution_count": null,
      "outputs": []
    },
    {
      "cell_type": "code",
      "source": [
        "!pip install pycaret"
      ],
      "metadata": {
        "id": "5JDmSXJ84ClF"
      },
      "execution_count": null,
      "outputs": []
    },
    {
      "cell_type": "code",
      "execution_count": null,
      "metadata": {
        "id": "ieHWXGfd-orU"
      },
      "outputs": [],
      "source": [
        "!pip install pycaret\n",
        "from pycaret.classification import *\n",
        "s = setup(df_modelo, target = 'target')\n"
      ]
    },
    {
      "cell_type": "code",
      "execution_count": null,
      "metadata": {
        "id": "meGYPy-M-orU"
      },
      "outputs": [],
      "source": [
        "best = compare_models()"
      ]
    },
    {
      "cell_type": "code",
      "execution_count": null,
      "metadata": {
        "id": "tnQ0ExcE-orU"
      },
      "outputs": [],
      "source": [
        "evaluate_model(best)"
      ]
    },
    {
      "cell_type": "code",
      "execution_count": null,
      "metadata": {
        "id": "YfKMWOLJ-orV"
      },
      "outputs": [],
      "source": [
        "save_model(best, 'model_train')"
      ]
    },
    {
      "cell_type": "markdown",
      "source": [
        "# PREDICCION"
      ],
      "metadata": {
        "id": "0g_bStlqzP6U"
      }
    },
    {
      "cell_type": "code",
      "source": [
        "# Modificando formatos fecha\n",
        "tenencia['pk_partition'] = pd.to_datetime(tenencia['pk_partition'])"
      ],
      "metadata": {
        "id": "PvI9htwqKL8B"
      },
      "execution_count": null,
      "outputs": []
    },
    {
      "cell_type": "code",
      "source": [
        "# Cambiando el formato de pk_partition de la tabla tendencia\n",
        "tenencia['pk_partition'] = pd.to_datetime(tenencia['pk_partition'],dayfirst = True)\n",
        "tenencia['pk_partition'] = tenencia['pk_partition'].dt.year.astype(str) +'-'+tenencia['pk_partition'].dt.month.astype(str) +'-'+ '01'\n",
        "tenencia['pk_partition'] = pd.to_datetime(tenencia['pk_partition'],dayfirst = True)"
      ],
      "metadata": {
        "id": "EmfJqGxPKYDu"
      },
      "execution_count": null,
      "outputs": []
    },
    {
      "cell_type": "code",
      "source": [
        "tenencia1=tenencia[tenencia.pk_partition== '2019-05-01']"
      ],
      "metadata": {
        "id": "Kf8VCl3UKpvj"
      },
      "execution_count": null,
      "outputs": []
    },
    {
      "cell_type": "code",
      "source": [
        "fecha_mes_anterior = pd.Timestamp('2019-04-01')\n",
        "tenencia1['fecha_mes_anterior'] =fecha_mes_anterior"
      ],
      "metadata": {
        "id": "xsHDVAzFhqLR"
      },
      "execution_count": null,
      "outputs": []
    },
    {
      "cell_type": "code",
      "source": [
        "tenencia1=tenencia1[['pk_cid', 'pk_partition','fecha_mes_anterior']]"
      ],
      "metadata": {
        "id": "p9A5wh9fJ7OI"
      },
      "execution_count": null,
      "outputs": []
    },
    {
      "cell_type": "code",
      "source": [
        "ventas['fecha_mes_anterior'] = ventas['pk_partition']###.astype(int)\n",
        "data_predict=tenencia1.merge(ventas,on=['pk_cid','pk_partition'], how='left')"
      ],
      "metadata": {
        "id": "uzEjjfqS0AgX"
      },
      "execution_count": null,
      "outputs": []
    },
    {
      "cell_type": "code",
      "source": [
        "data_predict=data_predict.merge(productos,on=['product_ID'], how='left')"
      ],
      "metadata": {
        "id": "QxWBZT8YlOTM"
      },
      "execution_count": null,
      "outputs": []
    },
    {
      "cell_type": "code",
      "source": [
        "data_predict"
      ],
      "metadata": {
        "id": "JxtZ2jZxC_rN"
      },
      "execution_count": null,
      "outputs": []
    },
    {
      "cell_type": "code",
      "source": [
        "data_predict = data_predict.fillna(0)"
      ],
      "metadata": {
        "id": "fo9KYz2mRC_6"
      },
      "execution_count": null,
      "outputs": []
    },
    {
      "cell_type": "code",
      "source": [
        "data_predict.columns"
      ],
      "metadata": {
        "id": "ye2wbsgkmF1r"
      },
      "execution_count": null,
      "outputs": []
    },
    {
      "cell_type": "code",
      "source": [
        "df_prediccion = data_predict\n",
        "df_prediccion.reset_index(inplace = True,drop = True)"
      ],
      "metadata": {
        "id": "sN1gHaSRe9NR"
      },
      "execution_count": null,
      "outputs": []
    },
    {
      "cell_type": "code",
      "source": [
        "cant_mes1=df_prediccion.groupby(['pk_partition','product_desc'])['product_desc'].count().unstack()\n",
        "cant_mes1"
      ],
      "metadata": {
        "id": "eKtmcMVle8Fa"
      },
      "execution_count": null,
      "outputs": []
    },
    {
      "cell_type": "markdown",
      "source": [
        "PRODUCTO : EM_ACOUNT"
      ],
      "metadata": {
        "id": "kYL64OSqeMxp"
      }
    },
    {
      "cell_type": "code",
      "source": [
        "##preparar Predicción\n",
        "casos = df_prediccion\n",
        "casos_1= casos[casos['product_desc']==\"em_acount\"]\n",
        "casos_0 = casos[casos['product_desc']==0]"
      ],
      "metadata": {
        "id": "biRkdFZoi4M7"
      },
      "execution_count": null,
      "outputs": []
    },
    {
      "cell_type": "code",
      "execution_count": null,
      "metadata": {
        "id": "h4SgUsS81iNq"
      },
      "outputs": [],
      "source": [
        "# crear una muestra aleatoria del dataframe casos_0 con un tamaño del X% del número de filas en el dataframe casos_1\n",
        "casos_0_sample = casos_0.sample(int(len(casos_1)*1),random_state=1)\n",
        "casos_0_sample"
      ]
    },
    {
      "cell_type": "code",
      "execution_count": null,
      "metadata": {
        "id": "C69Dqv1x1iNq"
      },
      "outputs": [],
      "source": [
        "casos_modelo = pd.concat([casos_1,casos_0_sample])\n",
        "len(casos_modelo)-len(casos_1)-len(casos_0_sample)"
      ]
    },
    {
      "cell_type": "code",
      "source": [
        "casos_modelo"
      ],
      "metadata": {
        "id": "oU2Jt-G40lIH"
      },
      "execution_count": null,
      "outputs": []
    },
    {
      "cell_type": "code",
      "source": [
        "muestra['pk_cid']=muestra['pk_cid'].astype(int)\n",
        "casos_modelo['pk_cid']=casos_modelo['pk_cid'].astype(int)"
      ],
      "metadata": {
        "id": "Wq9Naa6gqwwS"
      },
      "execution_count": null,
      "outputs": []
    },
    {
      "cell_type": "code",
      "source": [
        "casos_modelo=casos_modelo.merge(muestra,on=['pk_cid'], how='left')\n",
        "casos_modelo"
      ],
      "metadata": {
        "id": "TNyKQm1Bp5bk"
      },
      "execution_count": null,
      "outputs": []
    },
    {
      "cell_type": "code",
      "source": [
        "casos_modelo = casos_modelo.fillna(0)"
      ],
      "metadata": {
        "id": "uk_gxSfAuao5"
      },
      "execution_count": null,
      "outputs": []
    },
    {
      "cell_type": "code",
      "source": [
        "casos_modelo1_cli=casos_modelo[['pk_cid']]\n",
        "casos_modelo1=casos_modelo[['age', 'gnd', 'ct_rgn_norm','entry_weights', 'anti_cli', 'seg_cli', 'TARGET_1' ]]\n",
        "casos_modelo1"
      ],
      "metadata": {
        "id": "VDhpMHNWEVDs"
      },
      "execution_count": null,
      "outputs": []
    },
    {
      "cell_type": "code",
      "execution_count": null,
      "metadata": {
        "id": "lIbahiwB1iNq"
      },
      "outputs": [],
      "source": [
        "df_modelo = casos_modelo1\n",
        "len(df_modelo)"
      ]
    },
    {
      "cell_type": "code",
      "source": [
        "df_modelo"
      ],
      "metadata": {
        "id": "It3qJG7K0syS"
      },
      "execution_count": null,
      "outputs": []
    },
    {
      "cell_type": "code",
      "source": [
        "from pycaret.classification import load_model\n",
        "\n",
        "# Load the trained model\n",
        "model = load_model('/content/model_train')\n",
        "\n",
        "# Use the model to make predictions\n",
        "predictions = model.predict_proba(df_modelo)\n",
        "predictions_1 = model.predict(df_modelo)"
      ],
      "metadata": {
        "id": "0muDKliOs9Ze"
      },
      "execution_count": null,
      "outputs": []
    },
    {
      "cell_type": "code",
      "source": [
        "df_modelo[['%_resid','%_prope']] = pd.DataFrame(predictions)\n"
      ],
      "metadata": {
        "id": "tZ8EJ6ACq6ud"
      },
      "execution_count": null,
      "outputs": []
    },
    {
      "cell_type": "code",
      "source": [
        "df_modelo"
      ],
      "metadata": {
        "id": "iJOhpL_HrD1A"
      },
      "execution_count": null,
      "outputs": []
    },
    {
      "cell_type": "code",
      "source": [
        "df_modelo_unido = casos_modelo1_cli.join(df_modelo)"
      ],
      "metadata": {
        "id": "iK83l8bWz7XT"
      },
      "execution_count": null,
      "outputs": []
    },
    {
      "cell_type": "code",
      "source": [
        "df_modelo_unido.head()"
      ],
      "metadata": {
        "id": "R6Ge5tjF3K2d"
      },
      "execution_count": null,
      "outputs": []
    },
    {
      "cell_type": "code",
      "source": [
        "##resultado = df.loc[df['pk_cid'] == 649919]"
      ],
      "metadata": {
        "id": "volEeoQj3eGU"
      },
      "execution_count": null,
      "outputs": []
    },
    {
      "cell_type": "code",
      "source": [
        "df_modelo_unido = df_modelo_unido.sort_values(by='%_prope', ascending=False)\n",
        "df_modelo_unido"
      ],
      "metadata": {
        "id": "709ehQfQX8iY"
      },
      "execution_count": null,
      "outputs": []
    },
    {
      "cell_type": "code",
      "source": [
        "#percentiles = np.percentile(df_modelo_unido['%_prope'],[10, 20, 30, 40, 50, 60, 70, 80, 90,95])\n",
        "#df_modelo_unido['percentil_compra']= np.searchsorted(percentiles,df_modelo_unido['%_prope'])"
      ],
      "metadata": {
        "id": "xsoG__yLZPhp"
      },
      "execution_count": null,
      "outputs": []
    },
    {
      "cell_type": "code",
      "source": [
        "# Calcular los percentiles\n",
        "percentiles = np.percentile(df_modelo_unido['%_prope'], np.arange(0, 100, 10))\n",
        "\n",
        "# Asignar percentiles a cada registro\n",
        "df_modelo_unido['percentil_compra'] = np.searchsorted(percentiles, df_modelo_unido['%_prope'])\n",
        "\n",
        "# Imprimir los primeros 10 registros para verificar\n",
        "print(df_modelo_unido.head(10))"
      ],
      "metadata": {
        "id": "W5W7qS0tKlmL"
      },
      "execution_count": null,
      "outputs": []
    },
    {
      "cell_type": "code",
      "source": [
        "df_modelo_unido=df_modelo_unido[['pk_cid','%_prope','percentil_compra']]"
      ],
      "metadata": {
        "id": "DuEtF09B9ZJp"
      },
      "execution_count": null,
      "outputs": []
    },
    {
      "cell_type": "code",
      "source": [
        "df_modelo_unido.head()"
      ],
      "metadata": {
        "id": "STZogajo-Dg-"
      },
      "execution_count": null,
      "outputs": []
    },
    {
      "cell_type": "code",
      "source": [
        "#df_modelo_unido.info()"
      ],
      "metadata": {
        "id": "nM2D2fJyYppe"
      },
      "execution_count": null,
      "outputs": []
    },
    {
      "cell_type": "code",
      "source": [
        "#df_modelo_unido.isna().sum()"
      ],
      "metadata": {
        "id": "fIAlekqhaeJI"
      },
      "execution_count": null,
      "outputs": []
    },
    {
      "cell_type": "code",
      "source": [
        "df_modelo_unido.to_excel('PROD_EM_ACOUNT.xlsx', index=False)"
      ],
      "metadata": {
        "id": "bnv45uzr-hGO"
      },
      "execution_count": null,
      "outputs": []
    }
  ],
  "metadata": {
    "kernelspec": {
      "display_name": "Python 3.7.0 ('venv_pred': venv)",
      "language": "python",
      "name": "python3"
    },
    "language_info": {
      "codemirror_mode": {
        "name": "ipython",
        "version": 3
      },
      "file_extension": ".py",
      "mimetype": "text/x-python",
      "name": "python",
      "nbconvert_exporter": "python",
      "pygments_lexer": "ipython3",
      "version": "3.7.0"
    },
    "orig_nbformat": 4,
    "vscode": {
      "interpreter": {
        "hash": "75a37c7a88bcb5da63499fe4017d16f8a0177820cdf1444e106813dcc5922c60"
      }
    },
    "colab": {
      "provenance": []
    }
  },
  "nbformat": 4,
  "nbformat_minor": 0
}